{
 "cells": [
  {
   "cell_type": "code",
   "execution_count": 1,
   "metadata": {},
   "outputs": [],
   "source": [
    "from tensorflow.keras import layers"
   ]
  },
  {
   "cell_type": "code",
   "execution_count": 2,
   "metadata": {},
   "outputs": [],
   "source": [
    "# 輸入照片大小\n",
    "input_shape_img = (1024, 1024, 3)\n",
    "img_input = layers.Input(shape=input_shape_img)"
   ]
  },
  {
   "cell_type": "code",
   "execution_count": 3,
   "metadata": {},
   "outputs": [],
   "source": [
    "# 建立cnn(vgg)層，提取特徵\n",
    "def cnn_base(img_input):\n",
    "    x = layers.Conv2D(filters=64, kernel_size=(3, 3), padding='same', activation='relu', name='block1_conv1')(img_input)\n",
    "    x = layers.Conv2D(filters=64, kernel_size=(3, 3), padding='same', activation='relu', name='block1_conv2')(x)\n",
    "    #  1024x1024 -> 512x512\n",
    "    x = layers.MaxPooling2D((2, 2), strides=(2, 2), name='block1_pool')(x)\n",
    "    \n",
    "    \n",
    "    x = layers.Conv2D(filters=128, kernel_size=(3, 3), padding='same', activation='relu', name='block2_conv1')(x)\n",
    "    x = layers.Conv2D(filters=128, kernel_size=(3, 3), padding='same', activation='relu', name='block2_conv2')(x)\n",
    "    # 512x512 -> 256x256\n",
    "    x = layers.MaxPooling2D((2, 2), strides=(2, 2), name='block2_pool')(x)\n",
    "    \n",
    "    x = layers.Conv2D(filters=256, kernel_size=(3, 3), padding='same', activation='relu', name='block3_conv1')(x)\n",
    "    x = layers.Conv2D(filters=256, kernel_size=(3, 3), padding='same', activation='relu', name='block3_conv2')(x)\n",
    "    x = layers.Conv2D(filters=256, kernel_size=(3, 3), padding='same', activation='relu', name='block3_conv3')(x)\n",
    "    # 256x256 -> 128x128\n",
    "    x = layers.MaxPooling2D((2, 2), strides=(2, 2), name='block3_pool')(x)\n",
    "    \n",
    "    x = layers.Conv2D(filters=512, kernel_size=(3, 3), padding='same', activation='relu', name='block4_conv1')(x)\n",
    "    x = layers.Conv2D(filters=512, kernel_size=(3, 3), padding='same', activation='relu', name='block4_conv2')(x)\n",
    "    x = layers.Conv2D(filters=512, kernel_size=(3, 3), padding='same', activation='relu', name='block4_conv3')(x)\n",
    "    # 128x128 -> 64x64\n",
    "    x = layers.MaxPooling2D((2, 2), strides=(2, 2), name='block3_pool')(x)\n",
    "    \n",
    "    x = layers.Conv2D(filters=512, kernel_size=(3, 3), padding='same', activation='relu', name='block5_conv1')(x)\n",
    "    x = layers.Conv2D(filters=512, kernel_size=(3, 3), padding='same', activation='relu', name='block5_conv2')(x)\n",
    "    x = layers.Conv2D(filters=512, kernel_size=(3, 3), padding='same', activation='relu', name='block5_conv3')(x)\n",
    "    \n",
    "    # 返回feature map 64*64*512\n",
    "    return x"
   ]
  },
  {
   "cell_type": "code",
   "execution_count": 18,
   "metadata": {},
   "outputs": [],
   "source": [
    "def rpn(base_layers, num_anchors):\n",
    "    x = layers.Conv2D(512, (3, 3), padding='same', activation='relu', \n",
    "                      kernel_initializer='normal', name='rpn_conv1')(base_layers)\n",
    "    # rpn分類和迴歸\n",
    "    x_class = layers.Conv2D(num_anchors*2, (1, 1), activation='softmax', name='rpn_out_class')(x)\n",
    "    x_reg = layers.Conv2D(num_anchors*4, (1, 1), activation='linear', name='rpn_out_regress')(x)\n",
    "    \n",
    "    return x_class, x_reg, base_layers"
   ]
  },
  {
   "cell_type": "code",
   "execution_count": 19,
   "metadata": {},
   "outputs": [
    {
     "data": {
      "text/plain": [
       "<tf.Tensor 'block5_conv3_4/Identity:0' shape=(None, 64, 64, 512) dtype=float32>"
      ]
     },
     "execution_count": 19,
     "metadata": {},
     "output_type": "execute_result"
    }
   ],
   "source": [
    "base_layer = cnn_base(img_input)\n",
    "base_layer"
   ]
  },
  {
   "cell_type": "code",
   "execution_count": 20,
   "metadata": {},
   "outputs": [],
   "source": [
    "x_class, x_reg, base_layers = rpn(base_layer, 9)"
   ]
  },
  {
   "cell_type": "code",
   "execution_count": 21,
   "metadata": {},
   "outputs": [
    {
     "name": "stdout",
     "output_type": "stream",
     "text": [
      "Classification支線： Tensor(\"rpn_out_class/Identity:0\", shape=(None, 64, 64, 18), dtype=float32)\n",
      "BBOX Regression 支線： Tensor(\"rpn_out_regress/Identity:0\", shape=(None, 64, 64, 36), dtype=float32)\n",
      "CNN Output： Tensor(\"block5_conv3_4/Identity:0\", shape=(None, 64, 64, 512), dtype=float32)\n"
     ]
    }
   ],
   "source": [
    "print('Classification支線：', x_class) # '''確認深度是否為18'''\n",
    "print('BBOX Regression 支線：', x_reg) #'''確認深度是否為36'''\n",
    "print('CNN Output：', base_layers)"
   ]
  },
  {
   "cell_type": "code",
   "execution_count": null,
   "metadata": {},
   "outputs": [],
   "source": []
  }
 ],
 "metadata": {
  "kernelspec": {
   "display_name": "Python 3",
   "language": "python",
   "name": "python3"
  },
  "language_info": {
   "codemirror_mode": {
    "name": "ipython",
    "version": 3
   },
   "file_extension": ".py",
   "mimetype": "text/x-python",
   "name": "python",
   "nbconvert_exporter": "python",
   "pygments_lexer": "ipython3",
   "version": "3.6.5"
  }
 },
 "nbformat": 4,
 "nbformat_minor": 4
}
