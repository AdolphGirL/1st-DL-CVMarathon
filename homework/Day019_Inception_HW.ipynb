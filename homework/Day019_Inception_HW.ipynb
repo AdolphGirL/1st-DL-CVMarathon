{
 "cells": [
  {
   "cell_type": "code",
   "execution_count": 1,
   "metadata": {},
   "outputs": [],
   "source": [
    "from tensorflow import keras\n",
    "from tensorflow.keras import layers, models, utils, applications, preprocessing"
   ]
  },
  {
   "cell_type": "code",
   "execution_count": 2,
   "metadata": {},
   "outputs": [],
   "source": [
    "# 導入InceptionV2-有BatchNormalization的Convolution\n",
    "def con2d_bn(x, filters, num_row, num_col, padding='same', strides=(1, 1), normalizer=True, activation='relu', name=None):\n",
    "    \"\"\"\n",
    "    Arguments:\n",
    "        x: input tensor.\n",
    "        filters: filters in `Conv2D`.\n",
    "        num_row: height of the convolution kernel.\n",
    "        num_col: width of the convolution kernel.\n",
    "        padding: padding mode in `Conv2D`.\n",
    "        strides: strides in `Conv2D`.\n",
    "        name: name of the ops; will become name + '_conv' for the convolution, \n",
    "              name + '_bn' for the batch norm layer and \n",
    "              name + '_act' for the activation layer.\n",
    "    Returns:\n",
    "        Output tensor after applying `Conv2D` and `BatchNormalization`\n",
    "    \"\"\"\n",
    "    if name is not None:\n",
    "        conv_name = name + '_conv'\n",
    "        bn_name = name + '_bn'\n",
    "        act_name = name + '_act'\n",
    "    else:\n",
    "        conv_name = None\n",
    "        bn_name = None\n",
    "        act_name = None\n",
    "    \n",
    "    if keras.backend.image_data_format() == 'channels_first':\n",
    "        bn_axis = 1\n",
    "    else:\n",
    "        bn_axis = 3\n",
    "    \n",
    "    x = layers.Conv2D(filters=filters, kernel_size=(num_row, num_col), \n",
    "                      strides=strides, padding=padding, use_bias=False, \n",
    "                      name=conv_name)(x)\n",
    "    if normalizer:\n",
    "        x = layers.BatchNormalization(axis=bn_axis, scale=False, name=bn_name)(x)\n",
    "    if activation:\n",
    "        x = layers.Activation(activation, name=act_name)(x)\n",
    "        \n",
    "    return x"
   ]
  },
  {
   "cell_type": "code",
   "execution_count": 6,
   "metadata": {},
   "outputs": [],
   "source": [
    "# InceptionV1_block\n",
    "# Convenience function for 'standard' Inception concatenated blocks\n",
    "# 產生inception layer \n",
    "# specs = ((64,), (96,128), (16,32), (32,)) -> inception-v1 3a層\n",
    "def concatenated_block(x, specs, channel_axis, name):\n",
    "    (br0, br1, br2, br3) = specs\n",
    "    \n",
    "    branch_0 = con2d_bn(x, br0[0], 1, 1, name=name+\"_Branch_0_a_1x1\")\n",
    "    \n",
    "    branch_1 = con2d_bn(x, br1[0], 1, 1, name=name+\"_Branch_1_a_1x1\")\n",
    "    branch_1 = con2d_bn(branch_1, br1[1], 3, 3, name=name+\"_Branch_1_b_3x3\")\n",
    "    \n",
    "    branch_2 = con2d_bn(x, br2[0], 1, 1, name=name+\"_Branch_2_a_1x1\")\n",
    "    branch_2 = con2d_bn(branch_2, br2[1], 5, 5, name=name+\"_Branch_2_b_5x5\")\n",
    "    \n",
    "    branch_3 = layers.MaxPooling2D( (3, 3), strides=(1, 1), padding='same', name=name+\"_Branch_3_a_max\")(x)  \n",
    "    branch_3 = con2d_bn(branch_3, br3[0], 1, 1, name=name+\"_Branch_3_b_1x1\")\n",
    "    \n",
    "    x = layers.concatenate( [branch_0, branch_1, branch_2, branch_3],\n",
    "        axis=channel_axis,\n",
    "        name=name+\"_Concatenated\"\n",
    "    )\n",
    "    \n",
    "    return x"
   ]
  },
  {
   "cell_type": "code",
   "execution_count": 7,
   "metadata": {},
   "outputs": [
    {
     "data": {
      "text/plain": [
       "<tf.Tensor 'Block_1_Concatenated/Identity:0' shape=(None, 224, 224, 256) dtype=float32>"
      ]
     },
     "execution_count": 7,
     "metadata": {},
     "output_type": "execute_result"
    }
   ],
   "source": [
    "# 測試\n",
    "img_input = layers.Input(shape=(224, 224, 1))\n",
    "x = concatenated_block(img_input, ((64,), (96,128), (16,32), (32,)), 3, 'Block_1')\n",
    "x"
   ]
  },
  {
   "cell_type": "code",
   "execution_count": 8,
   "metadata": {},
   "outputs": [],
   "source": [
    "# 將 concatenated_block中nn卷積改為1*n+n*1(導入InceptionV3概念)\n",
    "def InceptionV3_block(x, specs,channel_axis, name):\n",
    "    (br0, br1, br2, br3) = specs\n",
    "    \n",
    "    branch_0 = con2d_bn(x, br0[0], 1, 1, name=name+\"_Branch_0_a_1x1\")\n",
    "    \n",
    "    branch_1 = con2d_bn(x, br1[0], 1, 1, name=name+\"_Branch_1_a_1x1\")\n",
    "    branch_1 = con2d_bn(branch_1, br1[1], 1, 3, name=name+\"_Branch_1_b_1x3\")\n",
    "    branch_1 = con2d_bn(branch_1, br1[1], 3, 1, name=name+\"_Branch_1_b_3x1\")\n",
    "    \n",
    "    branch_2 = con2d_bn(x, br2[0], 1, 1, name=name+\"_Branch_2_a_1x1\")\n",
    "    branch_2 = con2d_bn(branch_2, br2[1], 1, 5, name=name+\"_Branch_2_b_1x5\")\n",
    "    branch_2 = con2d_bn(branch_2, br2[1], 5, 1, name=name+\"_Branch_2_b_5x1\")\n",
    "    \n",
    "    branch_3 = layers.MaxPooling2D( (3, 3), strides=(1, 1), padding='same', name=name+\"_Branch_3_a_max\")(x)  \n",
    "    branch_3 = con2d_bn(branch_3, br3[0], 1, 1, name=name+\"_Branch_3_b_1x1\")\n",
    "\n",
    "    x = layers.concatenate( [branch_0, branch_1, branch_2, branch_3],\n",
    "        axis=channel_axis,\n",
    "        name=name+\"_Concatenated\"\n",
    "    )\n",
    "    \n",
    "    return x"
   ]
  },
  {
   "cell_type": "code",
   "execution_count": 9,
   "metadata": {},
   "outputs": [
    {
     "data": {
      "text/plain": [
       "<tf.Tensor 'Block_1_Concatenated_1/Identity:0' shape=(None, 224, 224, 256) dtype=float32>"
      ]
     },
     "execution_count": 9,
     "metadata": {},
     "output_type": "execute_result"
    }
   ],
   "source": [
    "# 測試\n",
    "img_input = layers.Input(shape=(224, 224, 1))\n",
    "x = InceptionV3_block(img_input, ((64,), (96,128), (16,32), (32,)), 3, 'Block_1')\n",
    "x"
   ]
  },
  {
   "cell_type": "code",
   "execution_count": null,
   "metadata": {},
   "outputs": [],
   "source": []
  }
 ],
 "metadata": {
  "kernelspec": {
   "display_name": "Python 3",
   "language": "python",
   "name": "python3"
  },
  "language_info": {
   "codemirror_mode": {
    "name": "ipython",
    "version": 3
   },
   "file_extension": ".py",
   "mimetype": "text/x-python",
   "name": "python",
   "nbconvert_exporter": "python",
   "pygments_lexer": "ipython3",
   "version": "3.6.8"
  }
 },
 "nbformat": 4,
 "nbformat_minor": 4
}
